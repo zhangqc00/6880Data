{
  "cells": [
    {
      "cell_type": "markdown",
      "metadata": {
        "id": "view-in-github",
        "colab_type": "text"
      },
      "source": [
        "<a href=\"https://colab.research.google.com/github/zhangqc00/6880Data/blob/main/HW1.ipynb\" target=\"_parent\"><img src=\"https://colab.research.google.com/assets/colab-badge.svg\" alt=\"Open In Colab\"/></a>"
      ]
    },
    {
      "cell_type": "code",
      "execution_count": null,
      "metadata": {
        "colab": {
          "base_uri": "https://localhost:8080/"
        },
        "id": "2TV-Li_Awd6d",
        "outputId": "df103d9d-bd2a-4623-8152-3d9c8cb4f6ca"
      },
      "outputs": [
        {
          "name": "stdout",
          "output_type": "stream",
          "text": [
            "        x       y\n",
            "0  0.1678  0.6097\n",
            "1  0.1743  0.6100\n",
            "2  0.3867 -0.6372\n",
            "3  0.4555 -1.4296\n",
            "4  0.5976 -2.9039\n",
            "5  0.6332 -3.1160\n",
            "6  0.8128 -2.4052\n",
            "7  0.8401 -2.0088\n",
            "8  0.9805  0.9767\n",
            "9  0.9904  1.2236\n"
          ]
        }
      ],
      "source": [
        "#import ssl\n",
        "#ssl._create_default_https_context = ssl._create_unverified_context\n",
        "#import data\n",
        "import pandas as pd # data processing, CSV file I/O (e.g. pd.read_csv)\n",
        "da = pd.read_csv('https://raw.githubusercontent.com/zhangqc00/6880Data/main/HW1Q1data.csv')\n",
        "print(da.head(10))"
      ]
    },
    {
      "cell_type": "code",
      "execution_count": 7,
      "metadata": {
        "id": "wImY_-8swp-X"
      },
      "outputs": [],
      "source": [
        "import numpy as np\n",
        "import matplotlib.pyplot as plt\n",
        "import matplotlib as mpl\n",
        "\n",
        "import kalepy as kale\n",
        "\n",
        "from kalepy.plot import nbshow"
      ]
    }
  ],
  "metadata": {
    "colab": {
      "name": "Untitled3.ipynb",
      "provenance": [],
      "authorship_tag": "ABX9TyNfu0jcDn6sz7XjsSth9YRc",
      "include_colab_link": true
    },
    "kernelspec": {
      "display_name": "Python 3",
      "name": "python3"
    },
    "language_info": {
      "name": "python"
    }
  },
  "nbformat": 4,
  "nbformat_minor": 0
}